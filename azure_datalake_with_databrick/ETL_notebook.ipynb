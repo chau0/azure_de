{
 "cells": [
  {
   "cell_type": "markdown",
   "metadata": {
    "application/vnd.databricks.v1+cell": {
     "cellMetadata": {
      "byteLimit": 2048000,
      "rowLimit": 10000
     },
     "inputWidgets": {},
     "nuid": "e809cffd-d5ee-41c7-a9e3-5b83f6428857",
     "showTitle": false,
     "title": ""
    }
   },
   "source": [
    "### Read CSV file to delta format"
   ]
  },
  {
   "cell_type": "code",
   "execution_count": 0,
   "metadata": {
    "application/vnd.databricks.v1+cell": {
     "cellMetadata": {
      "byteLimit": 2048000,
      "rowLimit": 10000
     },
     "inputWidgets": {},
     "nuid": "244c9da1-54ce-45de-83a3-df967af60faf",
     "showTitle": false,
     "title": ""
    }
   },
   "outputs": [],
   "source": [
    "# import library\n",
    "\n",
    "from pyspark.sql.functions import *\n",
    "from pyspark.sql.types import TimestampType"
   ]
  },
  {
   "cell_type": "markdown",
   "metadata": {
    "application/vnd.databricks.v1+cell": {
     "cellMetadata": {
      "byteLimit": 2048000,
      "rowLimit": 10000
     },
     "inputWidgets": {},
     "nuid": "12c9155c-aa9c-4390-b74e-f98ed174849a",
     "showTitle": false,
     "title": ""
    }
   },
   "source": [
    "#### Payments"
   ]
  },
  {
   "cell_type": "code",
   "execution_count": 0,
   "metadata": {
    "application/vnd.databricks.v1+cell": {
     "cellMetadata": {
      "byteLimit": 2048000,
      "rowLimit": 10000
     },
     "inputWidgets": {},
     "nuid": "a3941ac7-54d2-44e5-be79-2ac33576c6b4",
     "showTitle": false,
     "title": ""
    }
   },
   "outputs": [],
   "source": [
    "\n",
    "# payment extraction\n",
    "payments_df = spark.read.format(\"csv\") \\\n",
    "    .option(\"inferSchema\", \"true\") \\\n",
    "    .option(\"header\", \"false\") \\\n",
    "    .option(\"sep\", \",\") \\\n",
    "    .load(\"dbfs:/FileStore/tables/payments.csv\") \\\n",
    "    .toDF(\"payment_id\",\"date\",\"amount\",\"rider_id\")"
   ]
  },
  {
   "cell_type": "code",
   "execution_count": 0,
   "metadata": {
    "application/vnd.databricks.v1+cell": {
     "cellMetadata": {
      "byteLimit": 2048000,
      "rowLimit": 10000
     },
     "inputWidgets": {},
     "nuid": "7ddc5064-5e37-418a-a993-eeb3f56880ac",
     "showTitle": false,
     "title": ""
    }
   },
   "outputs": [
    {
     "output_type": "display_data",
     "data": {
      "text/html": [
       "<style scoped>\n",
       "  .table-result-container {\n",
       "    max-height: 300px;\n",
       "    overflow: auto;\n",
       "  }\n",
       "  table, th, td {\n",
       "    border: 1px solid black;\n",
       "    border-collapse: collapse;\n",
       "  }\n",
       "  th, td {\n",
       "    padding: 5px;\n",
       "  }\n",
       "  th {\n",
       "    text-align: left;\n",
       "  }\n",
       "</style><div class='table-result-container'><table class='table-result'><thead style='background-color: white'><tr><th>payment_id</th><th>date</th><th>amount</th><th>rider_id</th></tr></thead><tbody><tr><td>1</td><td>2019-05-01</td><td>9.0</td><td>1000</td></tr><tr><td>2</td><td>2019-06-01</td><td>9.0</td><td>1000</td></tr><tr><td>3</td><td>2019-07-01</td><td>9.0</td><td>1000</td></tr><tr><td>4</td><td>2019-08-01</td><td>9.0</td><td>1000</td></tr><tr><td>5</td><td>2019-09-01</td><td>9.0</td><td>1000</td></tr><tr><td>6</td><td>2019-10-01</td><td>9.0</td><td>1000</td></tr><tr><td>7</td><td>2019-11-01</td><td>9.0</td><td>1000</td></tr><tr><td>8</td><td>2019-12-01</td><td>9.0</td><td>1000</td></tr><tr><td>9</td><td>2020-01-01</td><td>9.0</td><td>1000</td></tr><tr><td>10</td><td>2020-02-01</td><td>9.0</td><td>1000</td></tr></tbody></table></div>"
      ]
     },
     "metadata": {
      "application/vnd.databricks.v1+output": {
       "addedWidgets": {},
       "aggData": [],
       "aggError": "",
       "aggOverflow": false,
       "aggSchema": [],
       "aggSeriesLimitReached": false,
       "aggType": "",
       "arguments": {},
       "columnCustomDisplayInfos": {},
       "data": [
        [
         1,
         "2019-05-01",
         9.0,
         1000
        ],
        [
         2,
         "2019-06-01",
         9.0,
         1000
        ],
        [
         3,
         "2019-07-01",
         9.0,
         1000
        ],
        [
         4,
         "2019-08-01",
         9.0,
         1000
        ],
        [
         5,
         "2019-09-01",
         9.0,
         1000
        ],
        [
         6,
         "2019-10-01",
         9.0,
         1000
        ],
        [
         7,
         "2019-11-01",
         9.0,
         1000
        ],
        [
         8,
         "2019-12-01",
         9.0,
         1000
        ],
        [
         9,
         "2020-01-01",
         9.0,
         1000
        ],
        [
         10,
         "2020-02-01",
         9.0,
         1000
        ]
       ],
       "datasetInfos": [],
       "dbfsResultPath": null,
       "isJsonSchema": true,
       "metadata": {},
       "overflow": false,
       "plotOptions": {
        "customPlotOptions": {},
        "displayType": "table",
        "pivotAggregation": null,
        "pivotColumns": null,
        "xColumns": null,
        "yColumns": null
       },
       "removedWidgets": [],
       "schema": [
        {
         "metadata": "{}",
         "name": "payment_id",
         "type": "\"integer\""
        },
        {
         "metadata": "{\"__detected_date_formats\":\"yyyy-M-d\"}",
         "name": "date",
         "type": "\"date\""
        },
        {
         "metadata": "{}",
         "name": "amount",
         "type": "\"double\""
        },
        {
         "metadata": "{}",
         "name": "rider_id",
         "type": "\"integer\""
        }
       ],
       "type": "table"
      }
     },
     "output_type": "display_data"
    }
   ],
   "source": [
    "display(payments_df.limit(10))"
   ]
  },
  {
   "cell_type": "code",
   "execution_count": 0,
   "metadata": {
    "application/vnd.databricks.v1+cell": {
     "cellMetadata": {
      "byteLimit": 2048000,
      "rowLimit": 10000
     },
     "inputWidgets": {},
     "nuid": "fffdcf06-f355-4fb8-abff-3c6b3e75c102",
     "showTitle": false,
     "title": ""
    }
   },
   "outputs": [],
   "source": [
    "# Write data to delta location\n",
    "payments_df.write.format(\"delta\") \\\n",
    "    .mode(\"overwrite\") \\\n",
    "    .save(\"/delta/payments\")\n",
    "     "
   ]
  },
  {
   "cell_type": "markdown",
   "metadata": {
    "application/vnd.databricks.v1+cell": {
     "cellMetadata": {},
     "inputWidgets": {},
     "nuid": "8bba6f3a-3e22-4c7e-9596-e78399237b7b",
     "showTitle": false,
     "title": ""
    }
   },
   "source": [
    "#### Riders\n"
   ]
  },
  {
   "cell_type": "code",
   "execution_count": 0,
   "metadata": {
    "application/vnd.databricks.v1+cell": {
     "cellMetadata": {
      "byteLimit": 2048000,
      "rowLimit": 10000
     },
     "inputWidgets": {},
     "nuid": "3b88e512-a3b4-472d-b2d2-664132ec3be5",
     "showTitle": false,
     "title": ""
    }
   },
   "outputs": [],
   "source": [
    "# riders extraction\n",
    "riders_df = spark.read.format(\"csv\") \\\n",
    "    .option(\"inferSchema\", \"true\") \\\n",
    "    .option(\"header\", \"false\") \\\n",
    "    .option(\"sep\", \",\") \\\n",
    "    .load(\"dbfs:/FileStore/tables/riders.csv\") \\\n",
    "    .toDF(\"rider_id\", \"first_name\", \"last_name\", \"address\", \"birthday\", \"account_start_date\", \"account_end_date\", \"is_member\")\n",
    "   "
   ]
  },
  {
   "cell_type": "code",
   "execution_count": 0,
   "metadata": {
    "application/vnd.databricks.v1+cell": {
     "cellMetadata": {
      "byteLimit": 2048000,
      "rowLimit": 10000
     },
     "inputWidgets": {},
     "nuid": "20d1ea48-325f-43ac-8fbd-42dd2e50e6b5",
     "showTitle": false,
     "title": ""
    }
   },
   "outputs": [
    {
     "output_type": "display_data",
     "data": {
      "text/html": [
       "<style scoped>\n",
       "  .table-result-container {\n",
       "    max-height: 300px;\n",
       "    overflow: auto;\n",
       "  }\n",
       "  table, th, td {\n",
       "    border: 1px solid black;\n",
       "    border-collapse: collapse;\n",
       "  }\n",
       "  th, td {\n",
       "    padding: 5px;\n",
       "  }\n",
       "  th {\n",
       "    text-align: left;\n",
       "  }\n",
       "</style><div class='table-result-container'><table class='table-result'><thead style='background-color: white'><tr><th>rider_id</th><th>first_name</th><th>last_name</th><th>address</th><th>birthday</th><th>account_start_date</th><th>account_end_date</th><th>is_member</th></tr></thead><tbody><tr><td>1000</td><td>Diana</td><td>Clark</td><td>1200 Alyssa Squares</td><td>1989-02-13</td><td>2019-04-23</td><td>null</td><td>true</td></tr><tr><td>1001</td><td>Jennifer</td><td>Smith</td><td>397 Diana Ferry</td><td>1976-08-10</td><td>2019-11-01</td><td>2020-09-01</td><td>true</td></tr><tr><td>1002</td><td>Karen</td><td>Smith</td><td>644 Brittany Row Apt. 097</td><td>1998-08-10</td><td>2022-02-04</td><td>null</td><td>true</td></tr><tr><td>1003</td><td>Bryan</td><td>Roberts</td><td>996 Dickerson Turnpike</td><td>1999-03-29</td><td>2019-08-26</td><td>null</td><td>false</td></tr><tr><td>1004</td><td>Jesse</td><td>Middleton</td><td>7009 Nathan Expressway</td><td>1969-04-11</td><td>2019-09-14</td><td>null</td><td>true</td></tr><tr><td>1005</td><td>Christine</td><td>Rodriguez</td><td>224 Washington Mills Apt. 467</td><td>1974-08-27</td><td>2020-03-24</td><td>null</td><td>false</td></tr><tr><td>1006</td><td>Alicia</td><td>Taylor</td><td>1137 Angela Locks</td><td>2004-01-30</td><td>2020-11-27</td><td>2021-12-01</td><td>true</td></tr><tr><td>1007</td><td>Benjamin</td><td>Fernandez</td><td>979 Phillips Ways</td><td>1988-01-11</td><td>2016-12-11</td><td>null</td><td>false</td></tr><tr><td>1008</td><td>John</td><td>Crawford</td><td>7691 Evans Court</td><td>1987-02-21</td><td>2021-03-28</td><td>2021-07-01</td><td>true</td></tr><tr><td>1009</td><td>Victoria</td><td>Ritter</td><td>9922 Jim Crest Apt. 319</td><td>1981-02-07</td><td>2020-06-12</td><td>2021-11-01</td><td>true</td></tr></tbody></table></div>"
      ]
     },
     "metadata": {
      "application/vnd.databricks.v1+output": {
       "addedWidgets": {},
       "aggData": [],
       "aggError": "",
       "aggOverflow": false,
       "aggSchema": [],
       "aggSeriesLimitReached": false,
       "aggType": "",
       "arguments": {},
       "columnCustomDisplayInfos": {},
       "data": [
        [
         1000,
         "Diana",
         "Clark",
         "1200 Alyssa Squares",
         "1989-02-13",
         "2019-04-23",
         null,
         true
        ],
        [
         1001,
         "Jennifer",
         "Smith",
         "397 Diana Ferry",
         "1976-08-10",
         "2019-11-01",
         "2020-09-01",
         true
        ],
        [
         1002,
         "Karen",
         "Smith",
         "644 Brittany Row Apt. 097",
         "1998-08-10",
         "2022-02-04",
         null,
         true
        ],
        [
         1003,
         "Bryan",
         "Roberts",
         "996 Dickerson Turnpike",
         "1999-03-29",
         "2019-08-26",
         null,
         false
        ],
        [
         1004,
         "Jesse",
         "Middleton",
         "7009 Nathan Expressway",
         "1969-04-11",
         "2019-09-14",
         null,
         true
        ],
        [
         1005,
         "Christine",
         "Rodriguez",
         "224 Washington Mills Apt. 467",
         "1974-08-27",
         "2020-03-24",
         null,
         false
        ],
        [
         1006,
         "Alicia",
         "Taylor",
         "1137 Angela Locks",
         "2004-01-30",
         "2020-11-27",
         "2021-12-01",
         true
        ],
        [
         1007,
         "Benjamin",
         "Fernandez",
         "979 Phillips Ways",
         "1988-01-11",
         "2016-12-11",
         null,
         false
        ],
        [
         1008,
         "John",
         "Crawford",
         "7691 Evans Court",
         "1987-02-21",
         "2021-03-28",
         "2021-07-01",
         true
        ],
        [
         1009,
         "Victoria",
         "Ritter",
         "9922 Jim Crest Apt. 319",
         "1981-02-07",
         "2020-06-12",
         "2021-11-01",
         true
        ]
       ],
       "datasetInfos": [],
       "dbfsResultPath": null,
       "isJsonSchema": true,
       "metadata": {},
       "overflow": false,
       "plotOptions": {
        "customPlotOptions": {},
        "displayType": "table",
        "pivotAggregation": null,
        "pivotColumns": null,
        "xColumns": null,
        "yColumns": null
       },
       "removedWidgets": [],
       "schema": [
        {
         "metadata": "{}",
         "name": "rider_id",
         "type": "\"integer\""
        },
        {
         "metadata": "{}",
         "name": "first_name",
         "type": "\"string\""
        },
        {
         "metadata": "{}",
         "name": "last_name",
         "type": "\"string\""
        },
        {
         "metadata": "{}",
         "name": "address",
         "type": "\"string\""
        },
        {
         "metadata": "{\"__detected_date_formats\":\"yyyy-M-d\"}",
         "name": "birthday",
         "type": "\"date\""
        },
        {
         "metadata": "{\"__detected_date_formats\":\"yyyy-M-d\"}",
         "name": "account_start_date",
         "type": "\"date\""
        },
        {
         "metadata": "{\"__detected_date_formats\":\"yyyy-M-d\"}",
         "name": "account_end_date",
         "type": "\"date\""
        },
        {
         "metadata": "{}",
         "name": "is_member",
         "type": "\"boolean\""
        }
       ],
       "type": "table"
      }
     },
     "output_type": "display_data"
    }
   ],
   "source": [
    "display(riders_df.limit(10))"
   ]
  },
  {
   "cell_type": "code",
   "execution_count": 0,
   "metadata": {
    "application/vnd.databricks.v1+cell": {
     "cellMetadata": {
      "byteLimit": 2048000,
      "rowLimit": 10000
     },
     "inputWidgets": {},
     "nuid": "4838cc39-566f-40ba-9b96-57bc8fbe42a4",
     "showTitle": false,
     "title": ""
    }
   },
   "outputs": [],
   "source": [
    "# Write data to delta location\n",
    "riders_df.write.format(\"delta\") \\\n",
    "    .mode(\"overwrite\") \\\n",
    "    .save(\"/delta/riders\")"
   ]
  },
  {
   "cell_type": "markdown",
   "metadata": {
    "application/vnd.databricks.v1+cell": {
     "cellMetadata": {},
     "inputWidgets": {},
     "nuid": "f5ed6ffd-32f6-4e2f-813c-e6480d49e73d",
     "showTitle": false,
     "title": ""
    }
   },
   "source": [
    "#### Stations"
   ]
  },
  {
   "cell_type": "code",
   "execution_count": 0,
   "metadata": {
    "application/vnd.databricks.v1+cell": {
     "cellMetadata": {
      "byteLimit": 2048000,
      "rowLimit": 10000
     },
     "inputWidgets": {},
     "nuid": "049c3856-c356-46b5-8216-2d65da4e7794",
     "showTitle": false,
     "title": ""
    }
   },
   "outputs": [],
   "source": [
    "\n",
    "# stations extraction\n",
    "stations_df = spark.read.format(\"csv\") \\\n",
    "    .option(\"inferSchema\", \"true\") \\\n",
    "    .option(\"header\", \"false\") \\\n",
    "    .option(\"sep\", \",\") \\\n",
    "    .load(\"dbfs:/FileStore/tables/stations.csv\") \\\n",
    "    .toDF(\"station_id\", \"name\", \"latitude\", \"longitude\")\n"
   ]
  },
  {
   "cell_type": "code",
   "execution_count": 0,
   "metadata": {
    "application/vnd.databricks.v1+cell": {
     "cellMetadata": {
      "byteLimit": 2048000,
      "rowLimit": 10000
     },
     "inputWidgets": {},
     "nuid": "42755367-9ab9-4aeb-b23a-129b030db496",
     "showTitle": false,
     "title": ""
    }
   },
   "outputs": [
    {
     "output_type": "display_data",
     "data": {
      "text/html": [
       "<style scoped>\n",
       "  .table-result-container {\n",
       "    max-height: 300px;\n",
       "    overflow: auto;\n",
       "  }\n",
       "  table, th, td {\n",
       "    border: 1px solid black;\n",
       "    border-collapse: collapse;\n",
       "  }\n",
       "  th, td {\n",
       "    padding: 5px;\n",
       "  }\n",
       "  th {\n",
       "    text-align: left;\n",
       "  }\n",
       "</style><div class='table-result-container'><table class='table-result'><thead style='background-color: white'><tr><th>station_id</th><th>name</th><th>latitude</th><th>longitude</th></tr></thead><tbody><tr><td>525</td><td>Glenwood Ave & Touhy Ave</td><td>42.012701</td><td>-87.66605799999999</td></tr><tr><td>KA1503000012</td><td>Clark St & Lake St</td><td>41.88579466666667</td><td>-87.63110066666668</td></tr><tr><td>637</td><td>Wood St & Chicago Ave</td><td>41.895634</td><td>-87.672069</td></tr><tr><td>13216</td><td>State St & 33rd St</td><td>41.8347335</td><td>-87.6258275</td></tr><tr><td>18003</td><td>Fairbanks St & Superior St</td><td>41.89580766666667</td><td>-87.62025316666669</td></tr><tr><td>KP1705001026</td><td>LaSalle Dr & Huron St</td><td>41.894877</td><td>-87.632326</td></tr><tr><td>13253</td><td>Lincoln Ave & Waveland Ave</td><td>41.948797</td><td>-87.675278</td></tr><tr><td>KA1503000044</td><td>Rush St & Hubbard St</td><td>41.890173</td><td>-87.62618499999999</td></tr><tr><td>KA1504000140</td><td>Winchester Ave & Elston Ave</td><td>41.92403733333333</td><td>-87.67641483333334</td></tr><tr><td>TA1305000032</td><td>Clinton St & Madison St</td><td>41.882242</td><td>-87.64106600000001</td></tr></tbody></table></div>"
      ]
     },
     "metadata": {
      "application/vnd.databricks.v1+output": {
       "addedWidgets": {},
       "aggData": [],
       "aggError": "",
       "aggOverflow": false,
       "aggSchema": [],
       "aggSeriesLimitReached": false,
       "aggType": "",
       "arguments": {},
       "columnCustomDisplayInfos": {},
       "data": [
        [
         "525",
         "Glenwood Ave & Touhy Ave",
         42.012701,
         -87.66605799999999
        ],
        [
         "KA1503000012",
         "Clark St & Lake St",
         41.88579466666667,
         -87.63110066666668
        ],
        [
         "637",
         "Wood St & Chicago Ave",
         41.895634,
         -87.672069
        ],
        [
         "13216",
         "State St & 33rd St",
         41.8347335,
         -87.6258275
        ],
        [
         "18003",
         "Fairbanks St & Superior St",
         41.89580766666667,
         -87.62025316666669
        ],
        [
         "KP1705001026",
         "LaSalle Dr & Huron St",
         41.894877,
         -87.632326
        ],
        [
         "13253",
         "Lincoln Ave & Waveland Ave",
         41.948797,
         -87.675278
        ],
        [
         "KA1503000044",
         "Rush St & Hubbard St",
         41.890173,
         -87.62618499999999
        ],
        [
         "KA1504000140",
         "Winchester Ave & Elston Ave",
         41.92403733333333,
         -87.67641483333334
        ],
        [
         "TA1305000032",
         "Clinton St & Madison St",
         41.882242,
         -87.64106600000001
        ]
       ],
       "datasetInfos": [],
       "dbfsResultPath": null,
       "isJsonSchema": true,
       "metadata": {},
       "overflow": false,
       "plotOptions": {
        "customPlotOptions": {},
        "displayType": "table",
        "pivotAggregation": null,
        "pivotColumns": null,
        "xColumns": null,
        "yColumns": null
       },
       "removedWidgets": [],
       "schema": [
        {
         "metadata": "{}",
         "name": "station_id",
         "type": "\"string\""
        },
        {
         "metadata": "{}",
         "name": "name",
         "type": "\"string\""
        },
        {
         "metadata": "{}",
         "name": "latitude",
         "type": "\"double\""
        },
        {
         "metadata": "{}",
         "name": "longitude",
         "type": "\"double\""
        }
       ],
       "type": "table"
      }
     },
     "output_type": "display_data"
    }
   ],
   "source": [
    "display(stations_df.limit(10))"
   ]
  },
  {
   "cell_type": "code",
   "execution_count": 0,
   "metadata": {
    "application/vnd.databricks.v1+cell": {
     "cellMetadata": {
      "byteLimit": 2048000,
      "rowLimit": 10000
     },
     "inputWidgets": {},
     "nuid": "ef821eb0-d417-4364-b5e6-5895b49eb5f4",
     "showTitle": false,
     "title": ""
    }
   },
   "outputs": [],
   "source": [
    "# Write data to delta location\n",
    "stations_df.write.format(\"delta\") \\\n",
    "    .mode(\"overwrite\") \\\n",
    "    .save(\"/delta/stations\")"
   ]
  },
  {
   "cell_type": "markdown",
   "metadata": {
    "application/vnd.databricks.v1+cell": {
     "cellMetadata": {},
     "inputWidgets": {},
     "nuid": "46a9e07e-33ea-4a6a-a03a-6d4b9ac39a69",
     "showTitle": false,
     "title": ""
    }
   },
   "source": [
    "#### Trips"
   ]
  },
  {
   "cell_type": "code",
   "execution_count": 0,
   "metadata": {
    "application/vnd.databricks.v1+cell": {
     "cellMetadata": {
      "byteLimit": 2048000,
      "rowLimit": 10000
     },
     "inputWidgets": {},
     "nuid": "a5e84f28-2c11-42d3-8626-14642400516a",
     "showTitle": false,
     "title": ""
    }
   },
   "outputs": [],
   "source": [
    "# trips extraction\n",
    "trips_df = spark.read.format(\"csv\") \\\n",
    "    .option(\"inferSchema\", \"true\") \\\n",
    "    .option(\"header\", \"false\") \\\n",
    "    .option(\"sep\", \",\") \\\n",
    "    .load(\"dbfs:/FileStore/tables/trips.csv\") \\\n",
    "    .toDF(\"trip_id\", \"rideable_type\", \"start_at\", \"ended_at\", \"start_station_id\", \"end_station_id\", \"rider_id\")\n"
   ]
  },
  {
   "cell_type": "code",
   "execution_count": 0,
   "metadata": {
    "application/vnd.databricks.v1+cell": {
     "cellMetadata": {
      "byteLimit": 2048000,
      "rowLimit": 10000
     },
     "inputWidgets": {},
     "nuid": "7bb98ca7-11c8-49a0-8b90-83472ef127d6",
     "showTitle": false,
     "title": ""
    }
   },
   "outputs": [
    {
     "output_type": "display_data",
     "data": {
      "text/html": [
       "<style scoped>\n",
       "  .table-result-container {\n",
       "    max-height: 300px;\n",
       "    overflow: auto;\n",
       "  }\n",
       "  table, th, td {\n",
       "    border: 1px solid black;\n",
       "    border-collapse: collapse;\n",
       "  }\n",
       "  th, td {\n",
       "    padding: 5px;\n",
       "  }\n",
       "  th {\n",
       "    text-align: left;\n",
       "  }\n",
       "</style><div class='table-result-container'><table class='table-result'><thead style='background-color: white'><tr><th>trip_id</th><th>rideable_type</th><th>start_at</th><th>ended_at</th><th>start_station_id</th><th>end_station_id</th><th>rider_id</th></tr></thead><tbody><tr><td>89E7AA6C29227EFF</td><td>classic_bike</td><td>2021-02-12T16:14:56Z</td><td>2021-02-12T16:21:43Z</td><td>525</td><td>660</td><td>71934</td></tr><tr><td>0FEFDE2603568365</td><td>classic_bike</td><td>2021-02-14T17:52:38Z</td><td>2021-02-14T18:12:09Z</td><td>525</td><td>16806</td><td>47854</td></tr><tr><td>E6159D746B2DBB91</td><td>electric_bike</td><td>2021-02-09T19:10:18Z</td><td>2021-02-09T19:19:10Z</td><td>KA1503000012</td><td>TA1305000029</td><td>70870</td></tr><tr><td>B32D3199F1C2E75B</td><td>classic_bike</td><td>2021-02-02T17:49:41Z</td><td>2021-02-02T17:54:06Z</td><td>637</td><td>TA1305000034</td><td>58974</td></tr><tr><td>83E463F23575F4BF</td><td>electric_bike</td><td>2021-02-23T15:07:23Z</td><td>2021-02-23T15:22:37Z</td><td>13216</td><td>TA1309000055</td><td>39608</td></tr><tr><td>BDAA7E3494E8D545</td><td>electric_bike</td><td>2021-02-24T15:43:33Z</td><td>2021-02-24T15:49:05Z</td><td>18003</td><td>KP1705001026</td><td>36267</td></tr><tr><td>A772742351171257</td><td>classic_bike</td><td>2021-02-01T17:47:42Z</td><td>2021-02-01T17:48:33Z</td><td>KP1705001026</td><td>KP1705001026</td><td>50104</td></tr><tr><td>295476889D9B79F8</td><td>classic_bike</td><td>2021-02-11T18:33:53Z</td><td>2021-02-11T18:35:09Z</td><td>18003</td><td>18003</td><td>19618</td></tr><tr><td>362087194BA4CC9A</td><td>classic_bike</td><td>2021-02-27T15:13:39Z</td><td>2021-02-27T15:36:36Z</td><td>KP1705001026</td><td>KP1705001026</td><td>16732</td></tr><tr><td>21630F715038CCB0</td><td>classic_bike</td><td>2021-02-20T08:59:42Z</td><td>2021-02-20T09:17:04Z</td><td>KP1705001026</td><td>KP1705001026</td><td>57068</td></tr></tbody></table></div>"
      ]
     },
     "metadata": {
      "application/vnd.databricks.v1+output": {
       "addedWidgets": {},
       "aggData": [],
       "aggError": "",
       "aggOverflow": false,
       "aggSchema": [],
       "aggSeriesLimitReached": false,
       "aggType": "",
       "arguments": {},
       "columnCustomDisplayInfos": {},
       "data": [
        [
         "89E7AA6C29227EFF",
         "classic_bike",
         "2021-02-12T16:14:56Z",
         "2021-02-12T16:21:43Z",
         "525",
         "660",
         71934
        ],
        [
         "0FEFDE2603568365",
         "classic_bike",
         "2021-02-14T17:52:38Z",
         "2021-02-14T18:12:09Z",
         "525",
         "16806",
         47854
        ],
        [
         "E6159D746B2DBB91",
         "electric_bike",
         "2021-02-09T19:10:18Z",
         "2021-02-09T19:19:10Z",
         "KA1503000012",
         "TA1305000029",
         70870
        ],
        [
         "B32D3199F1C2E75B",
         "classic_bike",
         "2021-02-02T17:49:41Z",
         "2021-02-02T17:54:06Z",
         "637",
         "TA1305000034",
         58974
        ],
        [
         "83E463F23575F4BF",
         "electric_bike",
         "2021-02-23T15:07:23Z",
         "2021-02-23T15:22:37Z",
         "13216",
         "TA1309000055",
         39608
        ],
        [
         "BDAA7E3494E8D545",
         "electric_bike",
         "2021-02-24T15:43:33Z",
         "2021-02-24T15:49:05Z",
         "18003",
         "KP1705001026",
         36267
        ],
        [
         "A772742351171257",
         "classic_bike",
         "2021-02-01T17:47:42Z",
         "2021-02-01T17:48:33Z",
         "KP1705001026",
         "KP1705001026",
         50104
        ],
        [
         "295476889D9B79F8",
         "classic_bike",
         "2021-02-11T18:33:53Z",
         "2021-02-11T18:35:09Z",
         "18003",
         "18003",
         19618
        ],
        [
         "362087194BA4CC9A",
         "classic_bike",
         "2021-02-27T15:13:39Z",
         "2021-02-27T15:36:36Z",
         "KP1705001026",
         "KP1705001026",
         16732
        ],
        [
         "21630F715038CCB0",
         "classic_bike",
         "2021-02-20T08:59:42Z",
         "2021-02-20T09:17:04Z",
         "KP1705001026",
         "KP1705001026",
         57068
        ]
       ],
       "datasetInfos": [],
       "dbfsResultPath": null,
       "isJsonSchema": true,
       "metadata": {},
       "overflow": false,
       "plotOptions": {
        "customPlotOptions": {},
        "displayType": "table",
        "pivotAggregation": null,
        "pivotColumns": null,
        "xColumns": null,
        "yColumns": null
       },
       "removedWidgets": [],
       "schema": [
        {
         "metadata": "{}",
         "name": "trip_id",
         "type": "\"string\""
        },
        {
         "metadata": "{}",
         "name": "rideable_type",
         "type": "\"string\""
        },
        {
         "metadata": "{}",
         "name": "start_at",
         "type": "\"timestamp\""
        },
        {
         "metadata": "{}",
         "name": "ended_at",
         "type": "\"timestamp\""
        },
        {
         "metadata": "{}",
         "name": "start_station_id",
         "type": "\"string\""
        },
        {
         "metadata": "{}",
         "name": "end_station_id",
         "type": "\"string\""
        },
        {
         "metadata": "{}",
         "name": "rider_id",
         "type": "\"integer\""
        }
       ],
       "type": "table"
      }
     },
     "output_type": "display_data"
    }
   ],
   "source": [
    "display(trips_df.limit(10))"
   ]
  },
  {
   "cell_type": "code",
   "execution_count": 0,
   "metadata": {
    "application/vnd.databricks.v1+cell": {
     "cellMetadata": {
      "byteLimit": 2048000,
      "rowLimit": 10000
     },
     "inputWidgets": {},
     "nuid": "cb0e61c5-4661-446f-ad2b-635e7f0e78d1",
     "showTitle": false,
     "title": ""
    }
   },
   "outputs": [],
   "source": [
    "# Write data to delta location\n",
    "trips_df.write.format(\"delta\") \\\n",
    "    .mode(\"overwrite\") \\\n",
    "    .save(\"/delta/trips\")\n",
    "     "
   ]
  },
  {
   "cell_type": "markdown",
   "metadata": {
    "application/vnd.databricks.v1+cell": {
     "cellMetadata": {},
     "inputWidgets": {},
     "nuid": "8bf85400-6539-46c4-ad1f-87aa83728757",
     "showTitle": false,
     "title": ""
    }
   },
   "source": [
    "#### Load data to table"
   ]
  },
  {
   "cell_type": "code",
   "execution_count": 0,
   "metadata": {
    "application/vnd.databricks.v1+cell": {
     "cellMetadata": {
      "byteLimit": 2048000,
      "rowLimit": 10000
     },
     "inputWidgets": {},
     "nuid": "8096f209-213d-4aed-b76f-5a0413d55047",
     "showTitle": false,
     "title": ""
    }
   },
   "outputs": [
    {
     "output_type": "execute_result",
     "data": {
      "text/plain": [
       "DataFrame[]"
      ]
     },
     "execution_count": 16,
     "metadata": {},
     "output_type": "execute_result"
    }
   ],
   "source": [
    "# Load payments\n",
    "if(spark._jsparkSession.catalog().tableExists('default', 'staging_payments') == True):\n",
    "    spark.sql(\"DROP TABLE IF EXISTS staging_payments\")\n",
    "spark.sql(\"CREATE TABLE staging_payments USING DELTA LOCATION '/delta/payments'\")\n"
   ]
  },
  {
   "cell_type": "code",
   "execution_count": 0,
   "metadata": {
    "application/vnd.databricks.v1+cell": {
     "cellMetadata": {
      "byteLimit": 2048000,
      "rowLimit": 10000
     },
     "inputWidgets": {},
     "nuid": "5f5b25f2-d1b4-49af-85b2-8868a8ff133b",
     "showTitle": false,
     "title": ""
    }
   },
   "outputs": [
    {
     "output_type": "execute_result",
     "data": {
      "text/plain": [
       "DataFrame[]"
      ]
     },
     "execution_count": 17,
     "metadata": {},
     "output_type": "execute_result"
    }
   ],
   "source": [
    "# Load riders\n",
    "if(spark._jsparkSession.catalog().tableExists('default', 'staging_riders') == True):\n",
    "    spark.sql(\"DROP TABLE IF EXISTS staging_riders\")\n",
    "spark.sql(\"CREATE TABLE staging_riders USING DELTA LOCATION '/delta/riders'\")\n"
   ]
  },
  {
   "cell_type": "code",
   "execution_count": 0,
   "metadata": {
    "application/vnd.databricks.v1+cell": {
     "cellMetadata": {
      "byteLimit": 2048000,
      "rowLimit": 10000
     },
     "inputWidgets": {},
     "nuid": "3c27e9bc-d591-4f00-83c0-bac0b99b21e0",
     "showTitle": false,
     "title": ""
    }
   },
   "outputs": [
    {
     "output_type": "execute_result",
     "data": {
      "text/plain": [
       "DataFrame[]"
      ]
     },
     "execution_count": 18,
     "metadata": {},
     "output_type": "execute_result"
    }
   ],
   "source": [
    "\n",
    "# Load stations\n",
    "if(spark._jsparkSession.catalog().tableExists('default', 'staging_stations') == True):\n",
    "    spark.sql(\"DROP TABLE IF EXISTS staging_stations\")    \n",
    "spark.sql(\"CREATE TABLE staging_stations USING DELTA LOCATION '/delta/stations'\")\n"
   ]
  },
  {
   "cell_type": "code",
   "execution_count": 0,
   "metadata": {
    "application/vnd.databricks.v1+cell": {
     "cellMetadata": {
      "byteLimit": 2048000,
      "rowLimit": 10000
     },
     "inputWidgets": {},
     "nuid": "2f60c882-e4dd-4c16-9203-bdab9d15e062",
     "showTitle": false,
     "title": ""
    }
   },
   "outputs": [
    {
     "output_type": "execute_result",
     "data": {
      "text/plain": [
       "DataFrame[]"
      ]
     },
     "execution_count": 19,
     "metadata": {},
     "output_type": "execute_result"
    }
   ],
   "source": [
    "# Load trips\n",
    "if(spark._jsparkSession.catalog().tableExists('default', 'staging_trips') == True):\n",
    "    spark.sql(\"DROP TABLE IF EXISTS staging_trips\")\n",
    "spark.sql(\"CREATE TABLE staging_trips USING DELTA LOCATION '/delta/trips'\")"
   ]
  },
  {
   "cell_type": "markdown",
   "metadata": {
    "application/vnd.databricks.v1+cell": {
     "cellMetadata": {},
     "inputWidgets": {},
     "nuid": "65de4c97-7d9c-42d1-bdb6-d1c43ab33692",
     "showTitle": false,
     "title": ""
    }
   },
   "source": [
    "#### Transform data to star schmema\n"
   ]
  },
  {
   "cell_type": "markdown",
   "metadata": {
    "application/vnd.databricks.v1+cell": {
     "cellMetadata": {},
     "inputWidgets": {},
     "nuid": "ececaeff-6888-4e8a-858a-048dd38aad0b",
     "showTitle": false,
     "title": ""
    }
   },
   "source": [
    "#### Payment"
   ]
  },
  {
   "cell_type": "code",
   "execution_count": 0,
   "metadata": {
    "application/vnd.databricks.v1+cell": {
     "cellMetadata": {
      "byteLimit": 2048000,
      "rowLimit": 10000
     },
     "inputWidgets": {},
     "nuid": "bda53a68-704e-48a6-9fea-6f7b28f9b061",
     "showTitle": false,
     "title": ""
    }
   },
   "outputs": [],
   "source": [
    "payments = spark.table(\"default.staging_payments\")\n",
    "     "
   ]
  },
  {
   "cell_type": "code",
   "execution_count": 0,
   "metadata": {
    "application/vnd.databricks.v1+cell": {
     "cellMetadata": {
      "byteLimit": 2048000,
      "rowLimit": 10000
     },
     "inputWidgets": {},
     "nuid": "ee8912c0-5f9c-4592-8338-03af89ce14c7",
     "showTitle": false,
     "title": ""
    }
   },
   "outputs": [
    {
     "output_type": "display_data",
     "data": {
      "text/html": [
       "<style scoped>\n",
       "  .table-result-container {\n",
       "    max-height: 300px;\n",
       "    overflow: auto;\n",
       "  }\n",
       "  table, th, td {\n",
       "    border: 1px solid black;\n",
       "    border-collapse: collapse;\n",
       "  }\n",
       "  th, td {\n",
       "    padding: 5px;\n",
       "  }\n",
       "  th {\n",
       "    text-align: left;\n",
       "  }\n",
       "</style><div class='table-result-container'><table class='table-result'><thead style='background-color: white'><tr><th>payment_id</th><th>date</th><th>amount</th><th>rider_id</th></tr></thead><tbody><tr><td>1</td><td>2019-05-01</td><td>9.0</td><td>1000</td></tr><tr><td>2</td><td>2019-06-01</td><td>9.0</td><td>1000</td></tr><tr><td>3</td><td>2019-07-01</td><td>9.0</td><td>1000</td></tr><tr><td>4</td><td>2019-08-01</td><td>9.0</td><td>1000</td></tr><tr><td>5</td><td>2019-09-01</td><td>9.0</td><td>1000</td></tr><tr><td>6</td><td>2019-10-01</td><td>9.0</td><td>1000</td></tr><tr><td>7</td><td>2019-11-01</td><td>9.0</td><td>1000</td></tr><tr><td>8</td><td>2019-12-01</td><td>9.0</td><td>1000</td></tr><tr><td>9</td><td>2020-01-01</td><td>9.0</td><td>1000</td></tr><tr><td>10</td><td>2020-02-01</td><td>9.0</td><td>1000</td></tr></tbody></table></div>"
      ]
     },
     "metadata": {
      "application/vnd.databricks.v1+output": {
       "addedWidgets": {},
       "aggData": [],
       "aggError": "",
       "aggOverflow": false,
       "aggSchema": [],
       "aggSeriesLimitReached": false,
       "aggType": "",
       "arguments": {},
       "columnCustomDisplayInfos": {},
       "data": [
        [
         1,
         "2019-05-01",
         9.0,
         1000
        ],
        [
         2,
         "2019-06-01",
         9.0,
         1000
        ],
        [
         3,
         "2019-07-01",
         9.0,
         1000
        ],
        [
         4,
         "2019-08-01",
         9.0,
         1000
        ],
        [
         5,
         "2019-09-01",
         9.0,
         1000
        ],
        [
         6,
         "2019-10-01",
         9.0,
         1000
        ],
        [
         7,
         "2019-11-01",
         9.0,
         1000
        ],
        [
         8,
         "2019-12-01",
         9.0,
         1000
        ],
        [
         9,
         "2020-01-01",
         9.0,
         1000
        ],
        [
         10,
         "2020-02-01",
         9.0,
         1000
        ]
       ],
       "datasetInfos": [],
       "dbfsResultPath": null,
       "isJsonSchema": true,
       "metadata": {},
       "overflow": false,
       "plotOptions": {
        "customPlotOptions": {},
        "displayType": "table",
        "pivotAggregation": null,
        "pivotColumns": null,
        "xColumns": null,
        "yColumns": null
       },
       "removedWidgets": [],
       "schema": [
        {
         "metadata": "{}",
         "name": "payment_id",
         "type": "\"integer\""
        },
        {
         "metadata": "{\"__detected_date_formats\":\"yyyy-M-d\"}",
         "name": "date",
         "type": "\"date\""
        },
        {
         "metadata": "{}",
         "name": "amount",
         "type": "\"double\""
        },
        {
         "metadata": "{}",
         "name": "rider_id",
         "type": "\"integer\""
        }
       ],
       "type": "table"
      }
     },
     "output_type": "display_data"
    }
   ],
   "source": [
    "display(payments.limit(10))"
   ]
  },
  {
   "cell_type": "code",
   "execution_count": 0,
   "metadata": {
    "application/vnd.databricks.v1+cell": {
     "cellMetadata": {
      "byteLimit": 2048000,
      "rowLimit": 10000
     },
     "inputWidgets": {},
     "nuid": "26dddd76-a763-474c-9960-8a52187244d4",
     "showTitle": false,
     "title": ""
    }
   },
   "outputs": [],
   "source": [
    "# Write data to fact_payments\n",
    "spark.sql(\"drop table if exists default.fact_payments\")\n",
    "payments.dropDuplicates([\"payment_id\"]).write.format(\"delta\").mode(\"overwrite\").saveAsTable(\"default.fact_payments\")\n"
   ]
  },
  {
   "cell_type": "markdown",
   "metadata": {
    "application/vnd.databricks.v1+cell": {
     "cellMetadata": {},
     "inputWidgets": {},
     "nuid": "a830491a-3471-402b-b5d0-5c516c5f83b1",
     "showTitle": false,
     "title": ""
    }
   },
   "source": [
    "#### Rider"
   ]
  },
  {
   "cell_type": "code",
   "execution_count": 0,
   "metadata": {
    "application/vnd.databricks.v1+cell": {
     "cellMetadata": {
      "byteLimit": 2048000,
      "rowLimit": 10000
     },
     "inputWidgets": {},
     "nuid": "2d28136b-6968-45f4-a13e-8a798e90b912",
     "showTitle": false,
     "title": ""
    }
   },
   "outputs": [],
   "source": [
    "riders = spark.table(\"default.staging_riders\")\n",
    "     "
   ]
  },
  {
   "cell_type": "code",
   "execution_count": 0,
   "metadata": {
    "application/vnd.databricks.v1+cell": {
     "cellMetadata": {
      "byteLimit": 2048000,
      "rowLimit": 10000
     },
     "inputWidgets": {},
     "nuid": "f759b84e-a25a-419c-8adb-edbce3bc35c7",
     "showTitle": false,
     "title": ""
    }
   },
   "outputs": [
    {
     "output_type": "display_data",
     "data": {
      "text/html": [
       "<style scoped>\n",
       "  .table-result-container {\n",
       "    max-height: 300px;\n",
       "    overflow: auto;\n",
       "  }\n",
       "  table, th, td {\n",
       "    border: 1px solid black;\n",
       "    border-collapse: collapse;\n",
       "  }\n",
       "  th, td {\n",
       "    padding: 5px;\n",
       "  }\n",
       "  th {\n",
       "    text-align: left;\n",
       "  }\n",
       "</style><div class='table-result-container'><table class='table-result'><thead style='background-color: white'><tr><th>rider_id</th><th>first_name</th><th>last_name</th><th>address</th><th>birthday</th><th>account_start_date</th><th>account_end_date</th><th>is_member</th></tr></thead><tbody><tr><td>57257</td><td>Mark</td><td>Mcfarland</td><td>9928 Hunter Ranch</td><td>1982-02-01</td><td>2020-12-05</td><td>null</td><td>false</td></tr><tr><td>57258</td><td>Mark</td><td>Davis</td><td>20036 Barrett Summit Apt. 714</td><td>1963-07-28</td><td>2017-07-12</td><td>null</td><td>true</td></tr><tr><td>57259</td><td>Bryan</td><td>Manning</td><td>089 Sarah Square</td><td>1984-11-05</td><td>2018-08-10</td><td>null</td><td>true</td></tr><tr><td>57260</td><td>Michele</td><td>Rowe</td><td>3157 Nicole Ferry Apt. 826</td><td>1997-09-21</td><td>2016-06-03</td><td>null</td><td>true</td></tr><tr><td>57261</td><td>John</td><td>Mckenzie</td><td>312 Jessica Wells</td><td>2002-10-13</td><td>2016-02-01</td><td>2018-07-01</td><td>true</td></tr><tr><td>57262</td><td>Tami</td><td>Rivera</td><td>910 Lopez Pass Apt. 426</td><td>2001-06-29</td><td>2020-11-12</td><td>null</td><td>true</td></tr><tr><td>57263</td><td>Joseph</td><td>Hodge</td><td>411 Mccoy Haven</td><td>1993-04-30</td><td>2020-05-29</td><td>null</td><td>false</td></tr><tr><td>57264</td><td>Lauren</td><td>Brown</td><td>667 Rodriguez Ramp</td><td>2002-10-20</td><td>2020-05-10</td><td>null</td><td>false</td></tr><tr><td>57265</td><td>Stephanie</td><td>Reed</td><td>90789 Fowler Circle</td><td>1993-03-20</td><td>2018-09-05</td><td>2019-09-01</td><td>true</td></tr><tr><td>57266</td><td>Brittney</td><td>Lamb</td><td>55635 Valerie Falls</td><td>1993-12-09</td><td>2020-10-10</td><td>null</td><td>true</td></tr></tbody></table></div>"
      ]
     },
     "metadata": {
      "application/vnd.databricks.v1+output": {
       "addedWidgets": {},
       "aggData": [],
       "aggError": "",
       "aggOverflow": false,
       "aggSchema": [],
       "aggSeriesLimitReached": false,
       "aggType": "",
       "arguments": {},
       "columnCustomDisplayInfos": {},
       "data": [
        [
         57257,
         "Mark",
         "Mcfarland",
         "9928 Hunter Ranch",
         "1982-02-01",
         "2020-12-05",
         null,
         false
        ],
        [
         57258,
         "Mark",
         "Davis",
         "20036 Barrett Summit Apt. 714",
         "1963-07-28",
         "2017-07-12",
         null,
         true
        ],
        [
         57259,
         "Bryan",
         "Manning",
         "089 Sarah Square",
         "1984-11-05",
         "2018-08-10",
         null,
         true
        ],
        [
         57260,
         "Michele",
         "Rowe",
         "3157 Nicole Ferry Apt. 826",
         "1997-09-21",
         "2016-06-03",
         null,
         true
        ],
        [
         57261,
         "John",
         "Mckenzie",
         "312 Jessica Wells",
         "2002-10-13",
         "2016-02-01",
         "2018-07-01",
         true
        ],
        [
         57262,
         "Tami",
         "Rivera",
         "910 Lopez Pass Apt. 426",
         "2001-06-29",
         "2020-11-12",
         null,
         true
        ],
        [
         57263,
         "Joseph",
         "Hodge",
         "411 Mccoy Haven",
         "1993-04-30",
         "2020-05-29",
         null,
         false
        ],
        [
         57264,
         "Lauren",
         "Brown",
         "667 Rodriguez Ramp",
         "2002-10-20",
         "2020-05-10",
         null,
         false
        ],
        [
         57265,
         "Stephanie",
         "Reed",
         "90789 Fowler Circle",
         "1993-03-20",
         "2018-09-05",
         "2019-09-01",
         true
        ],
        [
         57266,
         "Brittney",
         "Lamb",
         "55635 Valerie Falls",
         "1993-12-09",
         "2020-10-10",
         null,
         true
        ]
       ],
       "datasetInfos": [],
       "dbfsResultPath": null,
       "isJsonSchema": true,
       "metadata": {},
       "overflow": false,
       "plotOptions": {
        "customPlotOptions": {},
        "displayType": "table",
        "pivotAggregation": null,
        "pivotColumns": null,
        "xColumns": null,
        "yColumns": null
       },
       "removedWidgets": [],
       "schema": [
        {
         "metadata": "{}",
         "name": "rider_id",
         "type": "\"integer\""
        },
        {
         "metadata": "{}",
         "name": "first_name",
         "type": "\"string\""
        },
        {
         "metadata": "{}",
         "name": "last_name",
         "type": "\"string\""
        },
        {
         "metadata": "{}",
         "name": "address",
         "type": "\"string\""
        },
        {
         "metadata": "{\"__detected_date_formats\":\"yyyy-M-d\"}",
         "name": "birthday",
         "type": "\"date\""
        },
        {
         "metadata": "{\"__detected_date_formats\":\"yyyy-M-d\"}",
         "name": "account_start_date",
         "type": "\"date\""
        },
        {
         "metadata": "{\"__detected_date_formats\":\"yyyy-M-d\"}",
         "name": "account_end_date",
         "type": "\"date\""
        },
        {
         "metadata": "{}",
         "name": "is_member",
         "type": "\"boolean\""
        }
       ],
       "type": "table"
      }
     },
     "output_type": "display_data"
    }
   ],
   "source": [
    "display(riders.limit(10))"
   ]
  },
  {
   "cell_type": "code",
   "execution_count": 0,
   "metadata": {
    "application/vnd.databricks.v1+cell": {
     "cellMetadata": {
      "byteLimit": 2048000,
      "rowLimit": 10000
     },
     "inputWidgets": {},
     "nuid": "ba75a795-3a95-4cf7-8b2c-573f33319154",
     "showTitle": false,
     "title": ""
    }
   },
   "outputs": [],
   "source": [
    "# Write data to dim_rider\n",
    "spark.sql(\"drop table if exists default.dim_rider\")\n",
    "riders.dropDuplicates([\"rider_id\"]).write.format(\"delta\").mode(\"overwrite\").saveAsTable(\"default.dim_rider\")\n",
    "     \n"
   ]
  },
  {
   "cell_type": "markdown",
   "metadata": {
    "application/vnd.databricks.v1+cell": {
     "cellMetadata": {},
     "inputWidgets": {},
     "nuid": "5aed4f19-3729-4469-85a2-7950d69ae6f8",
     "showTitle": false,
     "title": ""
    }
   },
   "source": [
    "#### Station"
   ]
  },
  {
   "cell_type": "code",
   "execution_count": 0,
   "metadata": {
    "application/vnd.databricks.v1+cell": {
     "cellMetadata": {
      "byteLimit": 2048000,
      "rowLimit": 10000
     },
     "inputWidgets": {},
     "nuid": "19b478ca-933a-4848-a40a-f59ef7c2fae9",
     "showTitle": false,
     "title": ""
    }
   },
   "outputs": [],
   "source": [
    "stations = spark.table(\"default.staging_stations\")\n"
   ]
  },
  {
   "cell_type": "code",
   "execution_count": 0,
   "metadata": {
    "application/vnd.databricks.v1+cell": {
     "cellMetadata": {
      "byteLimit": 2048000,
      "rowLimit": 10000
     },
     "inputWidgets": {},
     "nuid": "c687a483-eb44-4269-8c4d-5fcdb6a409e4",
     "showTitle": false,
     "title": ""
    }
   },
   "outputs": [
    {
     "output_type": "display_data",
     "data": {
      "text/html": [
       "<style scoped>\n",
       "  .table-result-container {\n",
       "    max-height: 300px;\n",
       "    overflow: auto;\n",
       "  }\n",
       "  table, th, td {\n",
       "    border: 1px solid black;\n",
       "    border-collapse: collapse;\n",
       "  }\n",
       "  th, td {\n",
       "    padding: 5px;\n",
       "  }\n",
       "  th {\n",
       "    text-align: left;\n",
       "  }\n",
       "</style><div class='table-result-container'><table class='table-result'><thead style='background-color: white'><tr><th>station_id</th><th>name</th><th>latitude</th><th>longitude</th></tr></thead><tbody><tr><td>525</td><td>Glenwood Ave & Touhy Ave</td><td>42.012701</td><td>-87.66605799999999</td></tr><tr><td>KA1503000012</td><td>Clark St & Lake St</td><td>41.88579466666667</td><td>-87.63110066666668</td></tr><tr><td>637</td><td>Wood St & Chicago Ave</td><td>41.895634</td><td>-87.672069</td></tr><tr><td>13216</td><td>State St & 33rd St</td><td>41.8347335</td><td>-87.6258275</td></tr><tr><td>18003</td><td>Fairbanks St & Superior St</td><td>41.89580766666667</td><td>-87.62025316666669</td></tr><tr><td>KP1705001026</td><td>LaSalle Dr & Huron St</td><td>41.894877</td><td>-87.632326</td></tr><tr><td>13253</td><td>Lincoln Ave & Waveland Ave</td><td>41.948797</td><td>-87.675278</td></tr><tr><td>KA1503000044</td><td>Rush St & Hubbard St</td><td>41.890173</td><td>-87.62618499999999</td></tr><tr><td>KA1504000140</td><td>Winchester Ave & Elston Ave</td><td>41.92403733333333</td><td>-87.67641483333334</td></tr><tr><td>TA1305000032</td><td>Clinton St & Madison St</td><td>41.882242</td><td>-87.64106600000001</td></tr></tbody></table></div>"
      ]
     },
     "metadata": {
      "application/vnd.databricks.v1+output": {
       "addedWidgets": {},
       "aggData": [],
       "aggError": "",
       "aggOverflow": false,
       "aggSchema": [],
       "aggSeriesLimitReached": false,
       "aggType": "",
       "arguments": {},
       "columnCustomDisplayInfos": {},
       "data": [
        [
         "525",
         "Glenwood Ave & Touhy Ave",
         42.012701,
         -87.66605799999999
        ],
        [
         "KA1503000012",
         "Clark St & Lake St",
         41.88579466666667,
         -87.63110066666668
        ],
        [
         "637",
         "Wood St & Chicago Ave",
         41.895634,
         -87.672069
        ],
        [
         "13216",
         "State St & 33rd St",
         41.8347335,
         -87.6258275
        ],
        [
         "18003",
         "Fairbanks St & Superior St",
         41.89580766666667,
         -87.62025316666669
        ],
        [
         "KP1705001026",
         "LaSalle Dr & Huron St",
         41.894877,
         -87.632326
        ],
        [
         "13253",
         "Lincoln Ave & Waveland Ave",
         41.948797,
         -87.675278
        ],
        [
         "KA1503000044",
         "Rush St & Hubbard St",
         41.890173,
         -87.62618499999999
        ],
        [
         "KA1504000140",
         "Winchester Ave & Elston Ave",
         41.92403733333333,
         -87.67641483333334
        ],
        [
         "TA1305000032",
         "Clinton St & Madison St",
         41.882242,
         -87.64106600000001
        ]
       ],
       "datasetInfos": [],
       "dbfsResultPath": null,
       "isJsonSchema": true,
       "metadata": {},
       "overflow": false,
       "plotOptions": {
        "customPlotOptions": {},
        "displayType": "table",
        "pivotAggregation": null,
        "pivotColumns": null,
        "xColumns": null,
        "yColumns": null
       },
       "removedWidgets": [],
       "schema": [
        {
         "metadata": "{}",
         "name": "station_id",
         "type": "\"string\""
        },
        {
         "metadata": "{}",
         "name": "name",
         "type": "\"string\""
        },
        {
         "metadata": "{}",
         "name": "latitude",
         "type": "\"double\""
        },
        {
         "metadata": "{}",
         "name": "longitude",
         "type": "\"double\""
        }
       ],
       "type": "table"
      }
     },
     "output_type": "display_data"
    }
   ],
   "source": [
    "display(stations.limit(10))"
   ]
  },
  {
   "cell_type": "code",
   "execution_count": 0,
   "metadata": {
    "application/vnd.databricks.v1+cell": {
     "cellMetadata": {
      "byteLimit": 2048000,
      "rowLimit": 10000
     },
     "inputWidgets": {},
     "nuid": "f3cd60d5-2da4-4bf8-8274-216d90a23f58",
     "showTitle": false,
     "title": ""
    }
   },
   "outputs": [],
   "source": [
    "# Write data to dim_station\n",
    "spark.sql(\"drop table if exists default.dim_station\")\n",
    "stations.dropDuplicates([\"station_id\"]).write.format(\"delta\").mode(\"overwrite\").saveAsTable(\"default.dim_station\")\n",
    " "
   ]
  },
  {
   "cell_type": "markdown",
   "metadata": {
    "application/vnd.databricks.v1+cell": {
     "cellMetadata": {},
     "inputWidgets": {},
     "nuid": "a883df9b-bd83-4228-bdab-b9cf2c7e0b80",
     "showTitle": false,
     "title": ""
    }
   },
   "source": [
    "#### Trips"
   ]
  },
  {
   "cell_type": "code",
   "execution_count": 0,
   "metadata": {
    "application/vnd.databricks.v1+cell": {
     "cellMetadata": {
      "byteLimit": 2048000,
      "rowLimit": 10000
     },
     "inputWidgets": {},
     "nuid": "1abf4e67-c16d-49b9-82ec-1f9d1e018081",
     "showTitle": false,
     "title": ""
    }
   },
   "outputs": [],
   "source": [
    "trips = spark.table(\"default.staging_trips\")\n"
   ]
  },
  {
   "cell_type": "code",
   "execution_count": 0,
   "metadata": {
    "application/vnd.databricks.v1+cell": {
     "cellMetadata": {
      "byteLimit": 2048000,
      "rowLimit": 10000
     },
     "inputWidgets": {},
     "nuid": "5857bb05-7abf-4932-b241-479843a02d22",
     "showTitle": false,
     "title": ""
    }
   },
   "outputs": [
    {
     "output_type": "display_data",
     "data": {
      "text/html": [
       "<style scoped>\n",
       "  .table-result-container {\n",
       "    max-height: 300px;\n",
       "    overflow: auto;\n",
       "  }\n",
       "  table, th, td {\n",
       "    border: 1px solid black;\n",
       "    border-collapse: collapse;\n",
       "  }\n",
       "  th, td {\n",
       "    padding: 5px;\n",
       "  }\n",
       "  th {\n",
       "    text-align: left;\n",
       "  }\n",
       "</style><div class='table-result-container'><table class='table-result'><thead style='background-color: white'><tr><th>trip_id</th><th>rideable_type</th><th>start_at</th><th>ended_at</th><th>start_station_id</th><th>end_station_id</th><th>rider_id</th></tr></thead><tbody><tr><td>F6F309843C09CAAC</td><td>classic_bike</td><td>2021-09-02T18:36:00Z</td><td>2021-09-02T18:48:43Z</td><td>TA1306000026</td><td>TA1307000041</td><td>70456</td></tr><tr><td>BD496FA19316E89C</td><td>classic_bike</td><td>2021-09-02T17:23:28Z</td><td>2021-09-02T17:32:43Z</td><td>TA1306000026</td><td>TA1309000019</td><td>24732</td></tr><tr><td>657E606A35206CC1</td><td>classic_bike</td><td>2021-09-05T23:13:43Z</td><td>2021-09-05T23:30:26Z</td><td>15642</td><td>TA1305000041</td><td>11875</td></tr><tr><td>B10DEEC4A5D90EB3</td><td>electric_bike</td><td>2021-09-09T18:26:00Z</td><td>2021-09-09T18:40:17Z</td><td>TA1307000001</td><td>TA1308000049</td><td>33064</td></tr><tr><td>268A00298A05078B</td><td>classic_bike</td><td>2021-09-06T18:49:27Z</td><td>2021-09-06T19:02:22Z</td><td>TA1306000026</td><td>TA1308000049</td><td>71976</td></tr><tr><td>41E9E476004232FD</td><td>electric_bike</td><td>2021-09-04T21:41:58Z</td><td>2021-09-04T22:03:02Z</td><td>13235</td><td>TA1305000041</td><td>43348</td></tr><tr><td>3F89D8A2BEE07478</td><td>classic_bike</td><td>2021-09-11T16:10:38Z</td><td>2021-09-11T16:36:36Z</td><td>13235</td><td>TA1307000041</td><td>1159</td></tr><tr><td>0BE315967E011514</td><td>electric_bike</td><td>2021-09-22T21:53:46Z</td><td>2021-09-22T22:11:58Z</td><td>13235</td><td>TA1309000019</td><td>75374</td></tr><tr><td>AE58DD50675A5E4E</td><td>classic_bike</td><td>2021-09-05T00:41:37Z</td><td>2021-09-05T00:54:15Z</td><td>TA1306000026</td><td>TA1308000049</td><td>3290</td></tr><tr><td>B435E6AE404F547E</td><td>classic_bike</td><td>2021-09-11T17:23:49Z</td><td>2021-09-11T17:37:19Z</td><td>TA1306000026</td><td>TA1307000041</td><td>31610</td></tr></tbody></table></div>"
      ]
     },
     "metadata": {
      "application/vnd.databricks.v1+output": {
       "addedWidgets": {},
       "aggData": [],
       "aggError": "",
       "aggOverflow": false,
       "aggSchema": [],
       "aggSeriesLimitReached": false,
       "aggType": "",
       "arguments": {},
       "columnCustomDisplayInfos": {},
       "data": [
        [
         "F6F309843C09CAAC",
         "classic_bike",
         "2021-09-02T18:36:00Z",
         "2021-09-02T18:48:43Z",
         "TA1306000026",
         "TA1307000041",
         70456
        ],
        [
         "BD496FA19316E89C",
         "classic_bike",
         "2021-09-02T17:23:28Z",
         "2021-09-02T17:32:43Z",
         "TA1306000026",
         "TA1309000019",
         24732
        ],
        [
         "657E606A35206CC1",
         "classic_bike",
         "2021-09-05T23:13:43Z",
         "2021-09-05T23:30:26Z",
         "15642",
         "TA1305000041",
         11875
        ],
        [
         "B10DEEC4A5D90EB3",
         "electric_bike",
         "2021-09-09T18:26:00Z",
         "2021-09-09T18:40:17Z",
         "TA1307000001",
         "TA1308000049",
         33064
        ],
        [
         "268A00298A05078B",
         "classic_bike",
         "2021-09-06T18:49:27Z",
         "2021-09-06T19:02:22Z",
         "TA1306000026",
         "TA1308000049",
         71976
        ],
        [
         "41E9E476004232FD",
         "electric_bike",
         "2021-09-04T21:41:58Z",
         "2021-09-04T22:03:02Z",
         "13235",
         "TA1305000041",
         43348
        ],
        [
         "3F89D8A2BEE07478",
         "classic_bike",
         "2021-09-11T16:10:38Z",
         "2021-09-11T16:36:36Z",
         "13235",
         "TA1307000041",
         1159
        ],
        [
         "0BE315967E011514",
         "electric_bike",
         "2021-09-22T21:53:46Z",
         "2021-09-22T22:11:58Z",
         "13235",
         "TA1309000019",
         75374
        ],
        [
         "AE58DD50675A5E4E",
         "classic_bike",
         "2021-09-05T00:41:37Z",
         "2021-09-05T00:54:15Z",
         "TA1306000026",
         "TA1308000049",
         3290
        ],
        [
         "B435E6AE404F547E",
         "classic_bike",
         "2021-09-11T17:23:49Z",
         "2021-09-11T17:37:19Z",
         "TA1306000026",
         "TA1307000041",
         31610
        ]
       ],
       "datasetInfos": [],
       "dbfsResultPath": null,
       "isJsonSchema": true,
       "metadata": {},
       "overflow": false,
       "plotOptions": {
        "customPlotOptions": {},
        "displayType": "table",
        "pivotAggregation": null,
        "pivotColumns": null,
        "xColumns": null,
        "yColumns": null
       },
       "removedWidgets": [],
       "schema": [
        {
         "metadata": "{}",
         "name": "trip_id",
         "type": "\"string\""
        },
        {
         "metadata": "{}",
         "name": "rideable_type",
         "type": "\"string\""
        },
        {
         "metadata": "{}",
         "name": "start_at",
         "type": "\"timestamp\""
        },
        {
         "metadata": "{}",
         "name": "ended_at",
         "type": "\"timestamp\""
        },
        {
         "metadata": "{}",
         "name": "start_station_id",
         "type": "\"string\""
        },
        {
         "metadata": "{}",
         "name": "end_station_id",
         "type": "\"string\""
        },
        {
         "metadata": "{}",
         "name": "rider_id",
         "type": "\"integer\""
        }
       ],
       "type": "table"
      }
     },
     "output_type": "display_data"
    }
   ],
   "source": [
    "display(trips.limit(10))\n"
   ]
  },
  {
   "cell_type": "code",
   "execution_count": 0,
   "metadata": {
    "application/vnd.databricks.v1+cell": {
     "cellMetadata": {
      "byteLimit": 2048000,
      "rowLimit": 10000
     },
     "inputWidgets": {},
     "nuid": "bb33e118-0ce6-431d-8d7c-c76ac0e43335",
     "showTitle": false,
     "title": ""
    }
   },
   "outputs": [
    {
     "output_type": "display_data",
     "data": {
      "text/html": [
       "<style scoped>\n",
       "  .table-result-container {\n",
       "    max-height: 300px;\n",
       "    overflow: auto;\n",
       "  }\n",
       "  table, th, td {\n",
       "    border: 1px solid black;\n",
       "    border-collapse: collapse;\n",
       "  }\n",
       "  th, td {\n",
       "    padding: 5px;\n",
       "  }\n",
       "  th {\n",
       "    text-align: left;\n",
       "  }\n",
       "</style><div class='table-result-container'><table class='table-result'><thead style='background-color: white'><tr><th>trip_id</th><th>rider_id</th><th>rideable_type</th><th>start_station_id</th><th>end_station_id</th><th>start_time_id</th><th>end_time_id</th><th>duration</th><th>rider_age</th></tr></thead><tbody><tr><td>F6F309843C09CAAC</td><td>70456</td><td>classic_bike</td><td>TA1306000026</td><td>TA1307000041</td><td>2021-09-02T18:36:00Z</td><td>2021-09-02T18:48:43Z</td><td>13.0</td><td>12650.0</td></tr><tr><td>BD496FA19316E89C</td><td>24732</td><td>classic_bike</td><td>TA1306000026</td><td>TA1309000019</td><td>2021-09-02T17:23:28Z</td><td>2021-09-02T17:32:43Z</td><td>9.0</td><td>8381.0</td></tr><tr><td>657E606A35206CC1</td><td>11875</td><td>classic_bike</td><td>15642</td><td>TA1305000041</td><td>2021-09-05T23:13:43Z</td><td>2021-09-05T23:30:26Z</td><td>17.0</td><td>10357.0</td></tr><tr><td>B10DEEC4A5D90EB3</td><td>33064</td><td>electric_bike</td><td>TA1307000001</td><td>TA1308000049</td><td>2021-09-09T18:26:00Z</td><td>2021-09-09T18:40:17Z</td><td>14.0</td><td>8602.0</td></tr><tr><td>268A00298A05078B</td><td>71976</td><td>classic_bike</td><td>TA1306000026</td><td>TA1308000049</td><td>2021-09-06T18:49:27Z</td><td>2021-09-06T19:02:22Z</td><td>13.0</td><td>12210.0</td></tr><tr><td>41E9E476004232FD</td><td>43348</td><td>electric_bike</td><td>13235</td><td>TA1305000041</td><td>2021-09-04T21:41:58Z</td><td>2021-09-04T22:03:02Z</td><td>21.0</td><td>20518.0</td></tr><tr><td>3F89D8A2BEE07478</td><td>1159</td><td>classic_bike</td><td>13235</td><td>TA1307000041</td><td>2021-09-11T16:10:38Z</td><td>2021-09-11T16:36:36Z</td><td>26.0</td><td>10632.0</td></tr><tr><td>0BE315967E011514</td><td>75374</td><td>electric_bike</td><td>13235</td><td>TA1309000019</td><td>2021-09-22T21:53:46Z</td><td>2021-09-22T22:11:58Z</td><td>18.0</td><td>12288.0</td></tr><tr><td>AE58DD50675A5E4E</td><td>3290</td><td>classic_bike</td><td>TA1306000026</td><td>TA1308000049</td><td>2021-09-05T00:41:37Z</td><td>2021-09-05T00:54:15Z</td><td>13.0</td><td>7979.0</td></tr><tr><td>B435E6AE404F547E</td><td>31610</td><td>classic_bike</td><td>TA1306000026</td><td>TA1307000041</td><td>2021-09-11T17:23:49Z</td><td>2021-09-11T17:37:19Z</td><td>14.0</td><td>12196.0</td></tr></tbody></table></div>"
      ]
     },
     "metadata": {
      "application/vnd.databricks.v1+output": {
       "addedWidgets": {},
       "aggData": [],
       "aggError": "",
       "aggOverflow": false,
       "aggSchema": [],
       "aggSeriesLimitReached": false,
       "aggType": "",
       "arguments": {},
       "columnCustomDisplayInfos": {},
       "data": [
        [
         "F6F309843C09CAAC",
         70456,
         "classic_bike",
         "TA1306000026",
         "TA1307000041",
         "2021-09-02T18:36:00Z",
         "2021-09-02T18:48:43Z",
         13.0,
         12650.0
        ],
        [
         "BD496FA19316E89C",
         24732,
         "classic_bike",
         "TA1306000026",
         "TA1309000019",
         "2021-09-02T17:23:28Z",
         "2021-09-02T17:32:43Z",
         9.0,
         8381.0
        ],
        [
         "657E606A35206CC1",
         11875,
         "classic_bike",
         "15642",
         "TA1305000041",
         "2021-09-05T23:13:43Z",
         "2021-09-05T23:30:26Z",
         17.0,
         10357.0
        ],
        [
         "B10DEEC4A5D90EB3",
         33064,
         "electric_bike",
         "TA1307000001",
         "TA1308000049",
         "2021-09-09T18:26:00Z",
         "2021-09-09T18:40:17Z",
         14.0,
         8602.0
        ],
        [
         "268A00298A05078B",
         71976,
         "classic_bike",
         "TA1306000026",
         "TA1308000049",
         "2021-09-06T18:49:27Z",
         "2021-09-06T19:02:22Z",
         13.0,
         12210.0
        ],
        [
         "41E9E476004232FD",
         43348,
         "electric_bike",
         "13235",
         "TA1305000041",
         "2021-09-04T21:41:58Z",
         "2021-09-04T22:03:02Z",
         21.0,
         20518.0
        ],
        [
         "3F89D8A2BEE07478",
         1159,
         "classic_bike",
         "13235",
         "TA1307000041",
         "2021-09-11T16:10:38Z",
         "2021-09-11T16:36:36Z",
         26.0,
         10632.0
        ],
        [
         "0BE315967E011514",
         75374,
         "electric_bike",
         "13235",
         "TA1309000019",
         "2021-09-22T21:53:46Z",
         "2021-09-22T22:11:58Z",
         18.0,
         12288.0
        ],
        [
         "AE58DD50675A5E4E",
         3290,
         "classic_bike",
         "TA1306000026",
         "TA1308000049",
         "2021-09-05T00:41:37Z",
         "2021-09-05T00:54:15Z",
         13.0,
         7979.0
        ],
        [
         "B435E6AE404F547E",
         31610,
         "classic_bike",
         "TA1306000026",
         "TA1307000041",
         "2021-09-11T17:23:49Z",
         "2021-09-11T17:37:19Z",
         14.0,
         12196.0
        ]
       ],
       "datasetInfos": [],
       "dbfsResultPath": null,
       "isJsonSchema": true,
       "metadata": {},
       "overflow": false,
       "plotOptions": {
        "customPlotOptions": {},
        "displayType": "table",
        "pivotAggregation": null,
        "pivotColumns": null,
        "xColumns": null,
        "yColumns": null
       },
       "removedWidgets": [],
       "schema": [
        {
         "metadata": "{}",
         "name": "trip_id",
         "type": "\"string\""
        },
        {
         "metadata": "{}",
         "name": "rider_id",
         "type": "\"integer\""
        },
        {
         "metadata": "{}",
         "name": "rideable_type",
         "type": "\"string\""
        },
        {
         "metadata": "{}",
         "name": "start_station_id",
         "type": "\"string\""
        },
        {
         "metadata": "{}",
         "name": "end_station_id",
         "type": "\"string\""
        },
        {
         "metadata": "{}",
         "name": "start_time_id",
         "type": "\"timestamp\""
        },
        {
         "metadata": "{}",
         "name": "end_time_id",
         "type": "\"timestamp\""
        },
        {
         "metadata": "{}",
         "name": "duration",
         "type": "\"double\""
        },
        {
         "metadata": "{}",
         "name": "rider_age",
         "type": "\"double\""
        }
       ],
       "type": "table"
      }
     },
     "output_type": "display_data"
    }
   ],
   "source": [
    "fact_trips = trips.alias(\"tbl1\").join(riders.alias(\"tbl2\"), col(\"tbl1.rider_id\") == col(\"tbl2.rider_id\"), \"left\") \\\n",
    "            .withColumn('duration', round((unix_timestamp(\"ended_at\") - unix_timestamp('start_at'))/60)) \\\n",
    "            .withColumn('rider_age', round((unix_timestamp(\"account_start_date\") - unix_timestamp('birthday'))/3600/24)) \\\n",
    "            .withColumnRenamed('start_at', 'start_time_id') \\\n",
    "            .withColumnRenamed('ended_at', 'end_time_id') \\\n",
    "            .select(\"trip_id\", col(\"tbl1.rider_id\"), \"rideable_type\", \"start_station_id\", \"end_station_id\", \"start_time_id\", \"end_time_id\", \"duration\", \"rider_age\")\n",
    "            \n",
    "display(fact_trips.limit(10))"
   ]
  },
  {
   "cell_type": "code",
   "execution_count": 0,
   "metadata": {
    "application/vnd.databricks.v1+cell": {
     "cellMetadata": {
      "byteLimit": 2048000,
      "rowLimit": 10000
     },
     "inputWidgets": {},
     "nuid": "37dc0cd5-1d5b-4c75-9b9f-dfafa7976d0b",
     "showTitle": false,
     "title": ""
    }
   },
   "outputs": [],
   "source": [
    "\n",
    "# Write data to fact_trip\n",
    "spark.sql(\"drop table if exists default.fact_trip\")\n",
    "fact_trips.write.format(\"delta\").mode(\"overwrite\").saveAsTable(\"default.fact_trip\")"
   ]
  },
  {
   "cell_type": "markdown",
   "metadata": {
    "application/vnd.databricks.v1+cell": {
     "cellMetadata": {},
     "inputWidgets": {},
     "nuid": "9a3bf156-72ed-4cf9-b0f5-aa4339e1f5fa",
     "showTitle": false,
     "title": ""
    }
   },
   "source": [
    "#### Create time table"
   ]
  },
  {
   "cell_type": "code",
   "execution_count": 0,
   "metadata": {
    "application/vnd.databricks.v1+cell": {
     "cellMetadata": {
      "byteLimit": 2048000,
      "rowLimit": 10000
     },
     "inputWidgets": {},
     "nuid": "2b7a6275-f219-421a-86e0-6005bf3613a9",
     "showTitle": false,
     "title": ""
    }
   },
   "outputs": [],
   "source": [
    "from pyspark.sql import functions as f\n",
    "from pyspark.sql.types import StringType\n",
    "# Get min date from trips\n",
    "min_date = trips.selectExpr('MIN(start_at) AS started_at').first().asDict()['started_at']\n",
    "# Add date range as max start_at from trip plus 5 years\n",
    "max_date = trips.selectExpr('DATEADD(year, 5, MAX(start_at)) AS started_at').first().asDict()['started_at']\n",
    "expression = f\"sequence(to_date('{min_date}'), to_date('{max_date}'), interval 1 day)\"\n",
    "dim_time = spark.createDataFrame([(1,)], [\"time_id\"])\n",
    "\n",
    "dim_time = dim_time.withColumn(\"dateinit\", f.explode(f.expr(expression)))\n",
    "dim_time = dim_time.withColumn(\"date\", f.to_timestamp(dim_time.dateinit, \"yyyy-MM-dd\"))\n",
    "\n",
    "dim_time = dim_time \\\n",
    "            .withColumn(\"day_of_week\", f.dayofweek(dim_time.date)) \\\n",
    "            .withColumn(\"day_of_month\", f.dayofmonth(dim_time.date)) \\\n",
    "            .withColumn(\"week_of_year\", f.weekofyear(dim_time.date)) \\\n",
    "            .withColumn(\"year\", f.year(dim_time.date)) \\\n",
    "            .withColumn(\"quarter\", f.quarter(dim_time.date)) \\\n",
    "            .withColumn(\"month\", f.month(dim_time.date)) \\\n",
    "            .withColumn(\"time_id\", dim_time.date.cast(StringType())) \\\n",
    "            .drop(f.col(\"dateinit\"))"
   ]
  },
  {
   "cell_type": "code",
   "execution_count": 0,
   "metadata": {
    "application/vnd.databricks.v1+cell": {
     "cellMetadata": {
      "byteLimit": 2048000,
      "rowLimit": 10000
     },
     "inputWidgets": {},
     "nuid": "25eb3105-3fc0-46de-8956-38ca2e0a5719",
     "showTitle": false,
     "title": ""
    }
   },
   "outputs": [],
   "source": [
    "# Write data to dim_time\n",
    "spark.sql(\"drop table if exists default.dim_time\")\n",
    "dim_time.write.format(\"delta\").mode(\"overwrite\").saveAsTable(\"default.dim_time\")"
   ]
  },
  {
   "cell_type": "code",
   "execution_count": 0,
   "metadata": {
    "application/vnd.databricks.v1+cell": {
     "cellMetadata": {},
     "inputWidgets": {},
     "nuid": "7c0ccbb8-3b7e-4291-b6f6-2d178a71238b",
     "showTitle": false,
     "title": ""
    }
   },
   "outputs": [],
   "source": []
  }
 ],
 "metadata": {
  "application/vnd.databricks.v1+notebook": {
   "dashboards": [],
   "language": "python",
   "notebookMetadata": {
    "pythonIndentUnit": 4
   },
   "notebookName": "Untitled Notebook 2023-10-31 22:38:01",
   "widgets": {}
  }
 },
 "nbformat": 4,
 "nbformat_minor": 0
}
